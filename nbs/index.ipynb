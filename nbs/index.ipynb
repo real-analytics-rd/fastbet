{
 "cells": [
  {
   "cell_type": "code",
   "execution_count": null,
   "metadata": {},
   "outputs": [],
   "source": [
    "from IPython.display import HTML\n",
    "\n",
    "import pandas as pd\n",
    "\n",
    "from fastbet.config.localconfig import CONFIG, DB_HOSTS\n",
    "from fastbet.config.mongo import mongo_init\n",
    "from fastbet.datastructure.data_extractor import data_aggregator\n",
    "from fastbet.environment import BettingEnv"
   ]
  },
  {
   "cell_type": "markdown",
   "metadata": {},
   "source": [
    "# `fastbet`\n",
    "> Create a custom `gym` environment to simulate simple betting strategy on football games."
   ]
  },
  {
   "cell_type": "markdown",
   "metadata": {},
   "source": [
    "## Install"
   ]
  },
  {
   "cell_type": "markdown",
   "metadata": {},
   "source": [
    "```sh\n",
    "pip install fastbet\n",
    "```"
   ]
  },
  {
   "cell_type": "markdown",
   "metadata": {},
   "source": [
    "## Config"
   ]
  },
  {
   "cell_type": "markdown",
   "metadata": {},
   "source": [
    "In order to connect to the `mongo` database we require some connection parameters defined in `toml` format and should be read when the library is loaded. The package will look first under `/secrets/config.toml` or in the environment variable `BETTING_ENV_CONFIG`. An example of `config` file is provided with the package and will be used by default. It is the user's responsibility to make sure this file is saved at the right location if you want to use your own."
   ]
  },
  {
   "cell_type": "markdown",
   "metadata": {},
   "source": [
    "Let's start by registering the connection to the mongo database:"
   ]
  },
  {
   "cell_type": "code",
   "execution_count": null,
   "metadata": {},
   "outputs": [],
   "source": [
    "mongo_init(db_host=\"public_atlas\")"
   ]
  },
  {
   "cell_type": "markdown",
   "metadata": {},
   "source": [
    "## Simplified betting environment"
   ]
  },
  {
   "cell_type": "markdown",
   "metadata": {},
   "source": [
    "The punter starts with `$N` (N>0) in his Bank account and can use them to place bets on several `football` games.\n",
    "\n",
    "He is offered the option to bet on the 2 main markets: `1X2` (home/draw/away) and `Asian handicap` (we focus on the even line) and is only allowed to place a `small`, `medium`, or `big` stake on *one and only one* of the 5 possible selections `home team win`, `away team win`, or `draw` (`1X2` case) or `home` or `away` (`Asian handicap`) or skip the betting opportunity. At each step, the  punter is presented with some information about a game and the associated betting opportunities. If he decides to bet, he receives a *reward* that could be `positive` (profit) or `negative` (loss of his stake). His balance is then updated accordingly and he moves to the next step i.e next game. An episode ends when the punter goes bankrupt (Balance <= 0) or if no more betting opportunities are available. "
   ]
  },
  {
   "cell_type": "markdown",
   "metadata": {},
   "source": [
    "### Load games"
   ]
  },
  {
   "cell_type": "code",
   "execution_count": null,
   "metadata": {},
   "outputs": [],
   "source": [
    "fixtures = data_aggregator(limit=10)"
   ]
  },
  {
   "cell_type": "markdown",
   "metadata": {},
   "source": [
    "### Init environment"
   ]
  },
  {
   "cell_type": "code",
   "execution_count": null,
   "metadata": {},
   "outputs": [],
   "source": [
    "env = BettingEnv(fixtures)\n",
    "max_steps_limit = fixtures.shape[0]"
   ]
  },
  {
   "cell_type": "markdown",
   "metadata": {},
   "source": [
    "### Playing random choices"
   ]
  },
  {
   "cell_type": "code",
   "execution_count": null,
   "metadata": {},
   "outputs": [],
   "source": [
    "# Init RL env.\n",
    "env.reset()\n",
    "\n",
    "# Init done Flag to False.\n",
    "done = False\n",
    "# Init loop counter.\n",
    "i = 0\n",
    "# Stops when it is done or when we have bet on all provided games.\n",
    "while not done and i < max_steps_limit:\n",
    "    # Make a step.\n",
    "    obs, reward, done, info = env.step(env.action_space.sample())\n",
    "    # Increment counter.\n",
    "    i = i + 1"
   ]
  },
  {
   "cell_type": "code",
   "execution_count": null,
   "metadata": {},
   "outputs": [
    {
     "data": {
      "text/html": [
       "<img src=\"./images/img_1.gif\">"
      ],
      "text/plain": [
       "<IPython.core.display.HTML object>"
      ]
     },
     "execution_count": null,
     "metadata": {},
     "output_type": "execute_result"
    }
   ],
   "source": [
    "#| echo: false\n",
    "#|exec_doc\n",
    "\n",
    "HTML('<img src=\"./images/img_1.gif\">')"
   ]
  },
  {
   "cell_type": "markdown",
   "metadata": {},
   "source": [
    "### Playing Medium Stake on Home Team Win (1X2)"
   ]
  },
  {
   "cell_type": "code",
   "execution_count": null,
   "metadata": {},
   "outputs": [],
   "source": [
    "# Init RL env.\n",
    "env.reset()\n",
    "# Init done Flag to False.\n",
    "done = False\n",
    "# Init loop counter.\n",
    "i = 0\n",
    "# Stops when it is done or when we have bet on all provided games.\n",
    "while not done and i < max_steps_limit:\n",
    "    # Make a step.\n",
    "    obs, reward, done, info = env.step(2)\n",
    "    # Increment counter.\n",
    "    i = i + 1"
   ]
  },
  {
   "cell_type": "code",
   "execution_count": null,
   "metadata": {},
   "outputs": [
    {
     "data": {
      "text/html": [
       "<img src=\"./images/img_2.gif\">"
      ],
      "text/plain": [
       "<IPython.core.display.HTML object>"
      ]
     },
     "execution_count": null,
     "metadata": {},
     "output_type": "execute_result"
    }
   ],
   "source": [
    "#| echo: false\n",
    "#|exec_doc\n",
    "\n",
    "HTML('<img src=\"./images/img_2.gif\">')"
   ]
  }
 ],
 "metadata": {
  "kernelspec": {
   "display_name": "python3",
   "language": "python",
   "name": "python3"
  }
 },
 "nbformat": 4,
 "nbformat_minor": 4
}
