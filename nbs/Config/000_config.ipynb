{
 "cells": [
  {
   "cell_type": "code",
   "execution_count": null,
   "id": "3a701c84",
   "metadata": {},
   "outputs": [],
   "source": [
    "#| default_exp config.localconfig"
   ]
  },
  {
   "cell_type": "code",
   "execution_count": null,
   "id": "5495f262-0574-4020-a983-02556d0a6a75",
   "metadata": {},
   "outputs": [],
   "source": [
    "from IPython.core.debugger import set_trace\n",
    "\n",
    "%load_ext autoreload\n",
    "%autoreload 2"
   ]
  },
  {
   "cell_type": "markdown",
   "id": "7c727e56",
   "metadata": {},
   "source": [
    "# Config\n",
    "> set of tool-functions to assist in computations, database connection and data manipulation."
   ]
  },
  {
   "cell_type": "markdown",
   "id": "c788ab81",
   "metadata": {},
   "source": [
    "# Load Config\n",
    "\n",
    "The configuration file for this project is defined in `toml` format and should be loaded when the library is loaded. The package will look first under `/secrets/config.toml` or in the environment variable `BETTING_ENV_CONFIG`. An example of `config` file is provided with the package and will be used by default. It is the user's responsibility to make sure this file is saved at the right location."
   ]
  },
  {
   "cell_type": "code",
   "execution_count": null,
   "id": "7403ff95",
   "metadata": {},
   "outputs": [],
   "source": [
    "# | export\n",
    "\n",
    "import logging\n",
    "import os\n",
    "import sys\n",
    "from pathlib import Path\n",
    "\n",
    "import toml\n",
    "\n",
    "# Config.\n",
    "logging.basicConfig(\n",
    "    level=logging.INFO, format=\"%(asctime)s - %(message)s\", datefmt=\"%Y-%m-%d %H:%M:%S\"\n",
    ")\n",
    "\n",
    "logger = logging.getLogger(__name__)\n",
    "\n",
    "# Read local `config.toml` file.\n",
    "config_path_env = os.getenv(\"BETTING_ENV_CONFIG\")\n",
    "config_path_local = Path(\"/secrets/config.toml\")\n",
    "config_path_pkg = Path(\"../../config.toml\")\n",
    "\n",
    "if not config_path_env is None and Path(config_path_env).exists():\n",
    "    CONFIG = toml.load(config_path_env)\n",
    "elif config_path_local.exists():\n",
    "    CONFIG = toml.load(config_path_local)\n",
    "elif config_path_pkg.exists():\n",
    "    CONFIG = toml.load(config_path_pkg)\n",
    "else:\n",
    "    logger.error(\n",
    "        \"No config file found under `BETTING_ENV_CONFIG`, pkg root or in `/secrets/config.toml`!\"\n",
    "    )\n",
    "    sys.exit()\n",
    "\n",
    "# Defined database hosts.\n",
    "DB_HOSTS = set([db for db in CONFIG[\"databases\"]])"
   ]
  },
  {
   "cell_type": "code",
   "execution_count": null,
   "id": "25b7e2b0-a93e-480a-829f-1e4950887dda",
   "metadata": {},
   "outputs": [],
   "source": [
    "#| hide\n",
    "\n",
    "import nbdev\n",
    "\n",
    "nbdev.nbdev_export()"
   ]
  }
 ],
 "metadata": {
  "kernelspec": {
   "display_name": "python3",
   "language": "python",
   "name": "python3"
  }
 },
 "nbformat": 4,
 "nbformat_minor": 5
}
