{
 "cells": [
  {
   "cell_type": "code",
   "execution_count": null,
   "id": "b7ea19c7",
   "metadata": {},
   "outputs": [],
   "source": [
    "#| default_exp config.mongo"
   ]
  },
  {
   "cell_type": "code",
   "execution_count": null,
   "id": "3b569f79-9e50-4a30-ae89-6cf09a9cb2ec",
   "metadata": {},
   "outputs": [],
   "source": [
    "from IPython.core.debugger import set_trace\n",
    "\n",
    "%load_ext autoreload\n",
    "%autoreload 2"
   ]
  },
  {
   "cell_type": "markdown",
   "id": "54e15b16",
   "metadata": {},
   "source": [
    "# Mongo\n",
    "> Tools needed to connect and extract data from mongoDB. It will be mainly based on functions from `mongoEngine`"
   ]
  },
  {
   "cell_type": "code",
   "execution_count": null,
   "id": "a2619dd6-f744-4e59-9307-ae6b1c65c545",
   "metadata": {},
   "outputs": [],
   "source": [
    "#| export\n",
    "\n",
    "import mongoengine\n",
    "from typing import Optional, Dict\n",
    "from fastbet.config.localconfig import CONFIG, DB_HOSTS"
   ]
  },
  {
   "cell_type": "code",
   "execution_count": null,
   "id": "21f56b9c",
   "metadata": {},
   "outputs": [],
   "source": [
    "#| export\n",
    "\n",
    "\n",
    "def db_connect(\n",
    "    db_hosts: Dict,  # All DB hosts.\n",
    "    config: Dict,  # Database config.\n",
    "    db_host: str,  # Host name as defined in `DB_HOSTS`.\n",
    "    db_name: str,  # Name of the database to connect to.\n",
    "    db_alias: Optional[\n",
    "        str\n",
    "    ] = None,  # Alias of the database we are connecting to. If not provided, we will use `db_name`.\n",
    "):\n",
    "    \"Connect to the apprpriate mongo database.\"\n",
    "    # check that the host name provided is valid\n",
    "    if db_host not in db_hosts:\n",
    "        raise ValueError(\n",
    "            \"db-host provided {db_host} should be one of {hosts}:\".format(\n",
    "                db_host=db_host, hosts=db_hosts\n",
    "            )\n",
    "        )\n",
    "\n",
    "    # decide on the alias to apply\n",
    "    db_alias = db_name if not db_name else db_alias\n",
    "\n",
    "    # read config for the appropriate database\n",
    "    db_config = config[\"databases\"][db_host]\n",
    "\n",
    "    # form the mongo-url i.e check if we need the port\n",
    "    db_url = (\n",
    "        db_config[\"url\"]\n",
    "        if not db_config[\"port\"]\n",
    "        else db_config[\"url\"] + \":\" + db_config[\"port\"]\n",
    "    )\n",
    "\n",
    "    db_uri = \"{base_url}{user}:{password}@{url}/{db}\".format(\n",
    "        base_url=db_config[\"mongo_base\"],\n",
    "        user=db_config[\"user\"],\n",
    "        password=db_config[\"password\"],\n",
    "        url=db_url,\n",
    "        db=db_name,\n",
    "    )\n",
    "    # add optional argument\n",
    "    optional_uri = []\n",
    "    if db_config[\"majority\"]:\n",
    "        optional_uri.append(\"w={majority}\".format(majority=\"majority\"))\n",
    "    if db_config[\"retry_writes\"]:\n",
    "        optional_uri.append(\n",
    "            \"retryWrites={majority}\".format(\n",
    "                majority=str(db_config[\"retry_writes\"]).lower()\n",
    "            )\n",
    "        )\n",
    "    if db_config[\"authSource\"]:\n",
    "        optional_uri.append(\n",
    "            \"authSource={auth_db}\".format(auth_db=db_config[\"authSource\"])\n",
    "        )\n",
    "\n",
    "    if optional_uri:\n",
    "        db_uri += \"?\" + \"&\".join(optional_uri)\n",
    "\n",
    "    mongoengine.register_connection(host=db_uri, alias=db_alias, name=db_name)"
   ]
  },
  {
   "cell_type": "markdown",
   "id": "0c1593bc",
   "metadata": {},
   "source": [
    "Here we register the connection to the database where the `Fixtures` info are saved. It will be used later to extract the game information needed to our RL environment."
   ]
  },
  {
   "cell_type": "code",
   "execution_count": null,
   "id": "f83471b2",
   "metadata": {},
   "outputs": [],
   "source": [
    "db_connect(\n",
    "    db_hosts=DB_HOSTS,\n",
    "    config=CONFIG,\n",
    "    db_host=\"public_atlas\",\n",
    "    db_name=CONFIG[\"connections\"][\"features\"][\"db\"],\n",
    "    db_alias=\"features\",\n",
    ")"
   ]
  },
  {
   "cell_type": "markdown",
   "id": "c8b35070",
   "metadata": {},
   "source": [
    "We will need a function to set-up all the mongoDB connections. It should be called when the package is initialised:"
   ]
  },
  {
   "cell_type": "code",
   "execution_count": null,
   "id": "06a93f57",
   "metadata": {},
   "outputs": [],
   "source": [
    "#| export\n",
    "\n",
    "\n",
    "def mongo_init(\n",
    "    db_host: str,  # Host name as defined in `DB_HOSTS`.\n",
    "    db_hosts: Dict = DB_HOSTS,  # All DB hosts.\n",
    "    config: Dict = CONFIG,  # Database config.\n",
    "):\n",
    "    \"Register all the required mongo connections.\"\n",
    "    # check that the host name provided is valid\n",
    "    if db_host not in db_hosts:\n",
    "        raise ValueError(\n",
    "            \"db-host provided {db_host} should be one of {hosts}:\".format(\n",
    "                db_host=db_host, hosts=db_hosts\n",
    "            )\n",
    "        )\n",
    "\n",
    "    ## features db\n",
    "    db_connect(\n",
    "        db_hosts=db_hosts,\n",
    "        config=config,\n",
    "        db_host=db_host,\n",
    "        db_name=config[\"connections\"][\"features\"][\"db\"],\n",
    "        db_alias=\"features\",\n",
    "    )"
   ]
  },
  {
   "cell_type": "code",
   "execution_count": null,
   "id": "1085ad91-6e24-45d3-a660-11448da38b4b",
   "metadata": {},
   "outputs": [],
   "source": [
    "mongo_init(\"public_atlas\")"
   ]
  },
  {
   "cell_type": "code",
   "execution_count": null,
   "id": "82d61e4b-f996-4929-b676-0827d22beb42",
   "metadata": {},
   "outputs": [],
   "source": [
    "#| hide\n",
    "\n",
    "import nbdev\n",
    "\n",
    "nbdev.nbdev_export()"
   ]
  }
 ],
 "metadata": {
  "kernelspec": {
   "display_name": "python3",
   "language": "python",
   "name": "python3"
  }
 },
 "nbformat": 4,
 "nbformat_minor": 5
}
