{
 "cells": [
  {
   "cell_type": "code",
   "execution_count": null,
   "id": "1043e341",
   "metadata": {},
   "outputs": [],
   "source": [
    "#| default_exp datastructure.team_lineup"
   ]
  },
  {
   "cell_type": "code",
   "execution_count": null,
   "id": "8960cddc",
   "metadata": {},
   "outputs": [],
   "source": [
    "#| hide\n",
    "\n",
    "from IPython.core.debugger import set_trace\n",
    "\n",
    "%load_ext autoreload\n",
    "%autoreload 2"
   ]
  },
  {
   "cell_type": "markdown",
   "id": "1802842a",
   "metadata": {},
   "source": [
    "#  Teams Lineups\n",
    "> In this module, we will define the data structure required to extract Teams lineups."
   ]
  },
  {
   "cell_type": "code",
   "execution_count": null,
   "id": "3724f98a-05ee-409b-8f06-29a31197c959",
   "metadata": {},
   "outputs": [],
   "source": [
    "#| export\n",
    "\n",
    "import pandas as pd\n",
    "import mongoengine\n",
    "import datetime\n",
    "import logging\n",
    "from mongoengine.fields import ListField"
   ]
  },
  {
   "cell_type": "markdown",
   "id": "f7b093ff",
   "metadata": {},
   "source": [
    "## The `Player` Classes\n",
    "\n",
    "The `Player` class contains the necassary information about the player reported on the team-sheet. If the player is starting the game, a more detailed class `StartingPlayer` will store further information about his position on the pitch and the formation the team is playing."
   ]
  },
  {
   "cell_type": "code",
   "execution_count": null,
   "id": "54149b0f",
   "metadata": {},
   "outputs": [],
   "source": [
    "#| export\n",
    "\n",
    "\n",
    "class Player(mongoengine.EmbeddedDocument):\n",
    "    \"Stores main information about a player reported on the team sheet\"\n",
    "    # Player Ids.\n",
    "    opta_id = mongoengine.IntField(db_field=\"player_optaId\")\n",
    "    inStat_id = mongoengine.IntField(db_field=\"player_inStatId\")\n",
    "    fotMob_id = mongoengine.IntField(db_field=\"player_fotmobId\")\n",
    "    player_id = mongoengine.StringField(\n",
    "        db_field=\"playerId\", required=False, default=\"Unknown\"\n",
    "    )\n",
    "    # Player name.\n",
    "    name = mongoengine.StringField(\n",
    "        db_field=\"playerName\", required=False, default=\"Unknown\"\n",
    "    )\n",
    "    # Player number.\n",
    "    jersey_number = mongoengine.IntField(required=False)\n",
    "\n",
    "    meta = {\"allow_inheritance\": True}\n",
    "\n",
    "\n",
    "class StartingPlayer(Player):\n",
    "    \"Extends the `Player` class with extra information about a Player starting the game\"\n",
    "    # Formation id.\n",
    "    formation_id = mongoengine.IntField(db_field=\"formationId\", required=True)\n",
    "    # Formation name.\n",
    "    formation = mongoengine.StringField(db_field=\"formationName\")\n",
    "    # Formation slots.\n",
    "    slot = mongoengine.IntField(required=True, choices=set(range(1, 12)))\n",
    "    # Positions.\n",
    "    position = mongoengine.StringField(required=True)\n",
    "    # Lines.\n",
    "    line = mongoengine.IntField(required=True, choices=set(range(1, 5)))"
   ]
  },
  {
   "cell_type": "markdown",
   "id": "84080ce5",
   "metadata": {},
   "source": [
    "## The LineUp Document\n",
    "\n",
    "The `TeamSheet` Class directly inherits from `mongoengine.Document` and contains a couple of embedded documents:\n",
    "* `Starting` is a a `mongoengine.EmbeddedDocumentListField` storing information about the players starting the game.\n",
    "* `Bench` is also a `mongoengine.EmbeddedDocumentListField` storing information about the players on the bech.\n",
    "* All these document all populated by `Player` objects."
   ]
  },
  {
   "cell_type": "code",
   "execution_count": null,
   "id": "fc030a0d",
   "metadata": {},
   "outputs": [],
   "source": [
    "#| export\n",
    "\n",
    "\n",
    "class TeamSheet(mongoengine.Document):\n",
    "    \"Store the team-sheet information for a given game.\"\n",
    "    \n",
    "    # Team info.\n",
    "    team_id = mongoengine.StringField(db_field=\"teamId\", required=True)\n",
    "    name = mongoengine.StringField(db_field=\"teamName\")\n",
    "    team_color = mongoengine.StringField(db_field=\"teamColor\", required=False)\n",
    "\n",
    "    # Optional metadata.\n",
    "    is_official = mongoengine.BooleanField(\n",
    "        db_field=\"is_official\", required=False, default=True\n",
    "    )\n",
    "    competition_id = mongoengine.StringField(db_field=\"competitionId\", required=False)\n",
    "    competition_fotmob_id = mongoengine.StringField(\n",
    "        db_field=\"competition_fotmobId\", required=False\n",
    "    )\n",
    "\n",
    "    # Ids.\n",
    "    opta_id = mongoengine.IntField(db_field=\"team_optaId\")\n",
    "    inStat_id = mongoengine.IntField(db_field=\"team_inStatId\")\n",
    "    fotMob_id = mongoengine.IntField(db_field=\"team_fotmobId\")\n",
    "\n",
    "    # Game ids.\n",
    "    game_id = mongoengine.StringField(db_field=\"gameId\", required=False)\n",
    "    game_opta_id = mongoengine.IntField(db_field=\"game_optaId\")\n",
    "    game_inStat_id = mongoengine.IntField(db_field=\"game_inStatId\")\n",
    "    game_fotMob_id = mongoengine.IntField(db_field=\"game_fotmobId\")\n",
    "    game_date = mongoengine.DateTimeField(db_field=\"gameDate\", required=False)\n",
    "\n",
    "    # Manager info (optional).\n",
    "    manager_id = mongoengine.StringField(db_field=\"managerId\", required=False)\n",
    "    manager_name = mongoengine.StringField(db_field=\"managerName\", required=False)\n",
    "    manager_fotmob_id = mongoengine.IntField(\n",
    "        db_field=\"manager_fotmobId\", required=False\n",
    "    )\n",
    "\n",
    "    # Referee name (optional).\n",
    "    referee_name = mongoengine.StringField(db_field=\"refereeName\", required=False)\n",
    "    referee_country = mongoengine.StringField(db_field=\"refereeCountry\", required=False)\n",
    "\n",
    "    # Data-source.\n",
    "    received_at = mongoengine.DateTimeField(\n",
    "        db_field=\"timeReceived\", default=datetime.datetime.now\n",
    "    )\n",
    "    source = mongoengine.StringField(db_field=\"lineupSource\")\n",
    "\n",
    "    # Players.\n",
    "    starting = mongoengine.EmbeddedDocumentListField(StartingPlayer)\n",
    "    bench = mongoengine.EmbeddedDocumentListField(Player)\n",
    "    not_available = ListField(db_field=\"not_available\", required=False)\n",
    "\n",
    "    meta = {\n",
    "        \"db_alias\": \"features\",\n",
    "        \"collection\": \"lineups\",\n",
    "        \"ordering\": [\"-received_at\"],\n",
    "    }\n",
    "\n",
    "    @classmethod\n",
    "    def get_latest(\n",
    "        cls,\n",
    "        ra_team_id: str,  # Real-analytics game identifier.\n",
    "        date: datetime.datetime = None, # Find the lastest data document prior to `date`.\n",
    "    ): # TeamSheet output.\n",
    "        if date is None:\n",
    "            date = datetime.datetime.now()\n",
    "        return (\n",
    "            cls.objects(team_id=ra_team_id, received_at__lte=date, source=\"opta\")\n",
    "            .order_by(\"-received_at\")\n",
    "            .first()\n",
    "        )"
   ]
  },
  {
   "cell_type": "code",
   "execution_count": null,
   "id": "6b30c647-b2be-4337-8cfa-a1d39d4df7d8",
   "metadata": {},
   "outputs": [],
   "source": [
    "from fastbet.config.mongo import mongo_init"
   ]
  },
  {
   "cell_type": "code",
   "execution_count": null,
   "id": "404f0cdd",
   "metadata": {},
   "outputs": [
    {
     "data": {
      "text/plain": [
       "{'Glenn Whelan': 'DMR',\n",
       " 'Mile Jedinak': 'DCL',\n",
       " 'John McGinn': 'DML',\n",
       " 'Jonathan Kodjia': 'FW',\n",
       " 'Albert Adomah': 'ML',\n",
       " 'Ahmed Elmohamady': 'MR',\n",
       " 'James Chester': 'DCR',\n",
       " 'Axel Tuanzebe': 'DR',\n",
       " 'Alan Hutton': 'DL',\n",
       " 'Orjan Nyland': 'GK',\n",
       " 'Jack Grealish': 'AMC'}"
      ]
     },
     "execution_count": null,
     "metadata": {},
     "output_type": "execute_result"
    }
   ],
   "source": [
    "# Initialise connections.\n",
    "mongo_init(db_host=\"public_atlas\")\n",
    "\n",
    "aston_villa_id = \"126905d14981e6b97912ad4fec354035ccef26cb8ec4e1cb20573c7b583b1c70\"\n",
    "\n",
    "lineup = TeamSheet.get_latest(\n",
    "    ra_team_id=aston_villa_id, date=datetime.datetime(2018, 8, 22, 19, 15, 0)\n",
    ")\n",
    "{x.name: x.position for x in lineup.starting}"
   ]
  },
  {
   "cell_type": "code",
   "execution_count": null,
   "id": "21a3d439-7094-4744-b2cb-a5684493c700",
   "metadata": {},
   "outputs": [],
   "source": [
    "#| hide\n",
    "\n",
    "import nbdev\n",
    "\n",
    "nbdev.nbdev_export()"
   ]
  }
 ],
 "metadata": {
  "kernelspec": {
   "display_name": "python3",
   "language": "python",
   "name": "python3"
  }
 },
 "nbformat": 4,
 "nbformat_minor": 5
}
